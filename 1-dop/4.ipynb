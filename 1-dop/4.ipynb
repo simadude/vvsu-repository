{
 "cells": [
  {
   "cell_type": "code",
   "execution_count": null,
   "metadata": {},
   "outputs": [],
   "source": [
    "polit = int(input(\"политическая теория (в граммах): \"))\n",
    "history = int(input(\"история политических учений (в граммах): \"))\n",
    "math = int(input(\"математика (в граммах): \"))\n",
    "\n",
    "print(\"Рецепт\")\n",
    "print(f\"политическая теория : {polit/1000:3} кг\")\n",
    "print(f\"история политических учений: {history/1000:3} кг\")\n",
    "print(f\"математика: {math/1000:3} кг\")\n",
    "print(\"Приправить политической историей. Добавить математические модели по вкусу.\")"
   ]
  }
 ],
 "metadata": {
  "kernelspec": {
   "display_name": "Python 3",
   "language": "python",
   "name": "python3"
  },
  "language_info": {
   "codemirror_mode": {
    "name": "ipython",
    "version": 3
   },
   "file_extension": ".py",
   "mimetype": "text/x-python",
   "name": "python",
   "nbconvert_exporter": "python",
   "pygments_lexer": "ipython3",
   "version": "3.12.5"
  }
 },
 "nbformat": 4,
 "nbformat_minor": 2
}
