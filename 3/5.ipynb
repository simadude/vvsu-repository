{
 "cells": [
  {
   "cell_type": "code",
   "execution_count": 2,
   "metadata": {},
   "outputs": [
    {
     "name": "stdout",
     "output_type": "stream",
     "text": [
      "Это число нечётное\n"
     ]
    }
   ],
   "source": [
    "# Вроде тут имеется ввиду целое число\n",
    "num = int(input(\"Введите целое число: \"))\n",
    "\n",
    "if num % 2 == 0:\n",
    "    print(\"Это число чётное\")\n",
    "else:\n",
    "    print(\"Это число нечётное\")"
   ]
  }
 ],
 "metadata": {
  "kernelspec": {
   "display_name": "Python 3",
   "language": "python",
   "name": "python3"
  },
  "language_info": {
   "codemirror_mode": {
    "name": "ipython",
    "version": 3
   },
   "file_extension": ".py",
   "mimetype": "text/x-python",
   "name": "python",
   "nbconvert_exporter": "python",
   "pygments_lexer": "ipython3",
   "version": "3.12.5"
  }
 },
 "nbformat": 4,
 "nbformat_minor": 2
}
