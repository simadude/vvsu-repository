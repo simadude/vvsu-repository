{
 "cells": [
  {
   "cell_type": "code",
   "execution_count": null,
   "metadata": {},
   "outputs": [],
   "source": [
    "l = [int(x) for x in input().split(\",\")]\n",
    "\n",
    "for x in l:\n",
    "    print(f\"{x} - \", end=\"\")\n",
    "    if x > 8:\n",
    "        print(\"Отлично\")\n",
    "    elif x > 6:\n",
    "        print(\"Хорошо\")\n",
    "    elif x > 4:\n",
    "        print(\"Удовлетворительно\")\n",
    "    else:\n",
    "        print(\"Плохо\")"
   ]
  }
 ],
 "metadata": {
  "kernelspec": {
   "display_name": "Python 3",
   "language": "python",
   "name": "python3"
  },
  "language_info": {
   "codemirror_mode": {
    "name": "ipython",
    "version": 3
   },
   "file_extension": ".py",
   "mimetype": "text/x-python",
   "name": "python",
   "nbconvert_exporter": "python",
   "pygments_lexer": "ipython3",
   "version": "3.12.5"
  }
 },
 "nbformat": 4,
 "nbformat_minor": 2
}
