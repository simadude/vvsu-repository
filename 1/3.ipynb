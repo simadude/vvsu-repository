{
 "cells": [
  {
   "cell_type": "code",
   "execution_count": 2,
   "metadata": {},
   "outputs": [
    {
     "name": "stdout",
     "output_type": "stream",
     "text": [
      "Рецепт\n",
      "бах : 200г\n",
      "бахом : 300г\n",
      "прибабахом : 100г\n",
      "Приправить политической историей. Добавить математические модели по вкусу.\n"
     ]
    }
   ],
   "source": [
    "name1 = input(\"Введите название первого  курса: \")\n",
    "name2 = input(\"Введите название второго  курса: \")\n",
    "name3 = input(\"Введите название третьего курса: \")\n",
    "lname = [name1, name2, name3]\n",
    "lmass = [200, 300, 100]\n",
    "print(\"Рецепт\")\n",
    "for i in range(3):\n",
    "    print(f\"{lname[i]} : {lmass[i]}г\")\n",
    "\n",
    "print(\"Приправить политической историей. Добавить математические модели по вкусу.\")"
   ]
  }
 ],
 "metadata": {
  "kernelspec": {
   "display_name": "Python 3",
   "language": "python",
   "name": "python3"
  },
  "language_info": {
   "codemirror_mode": {
    "name": "ipython",
    "version": 3
   },
   "file_extension": ".py",
   "mimetype": "text/x-python",
   "name": "python",
   "nbconvert_exporter": "python",
   "pygments_lexer": "ipython3",
   "version": "3.12.5"
  }
 },
 "nbformat": 4,
 "nbformat_minor": 2
}
