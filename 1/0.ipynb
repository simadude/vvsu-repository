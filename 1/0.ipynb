{
 "cells": [
  {
   "cell_type": "code",
   "execution_count": 2,
   "metadata": {},
   "outputs": [],
   "source": [
    "a = [1, 0, 9, 12, 18, 34, 89, 91, 33, 127]\n",
    "b = [2, 8, 9, 11, 76, 25, 44]"
   ]
  },
  {
   "cell_type": "code",
   "execution_count": 3,
   "metadata": {},
   "outputs": [
    {
     "name": "stdout",
     "output_type": "stream",
     "text": [
      "1 9 127\n"
     ]
    }
   ],
   "source": [
    "# 1. Выведите на экран первый элемент списка a, третий элемент списка a, последний элемент списка a.\n",
    "print(a[0], a[2], a[-1])"
   ]
  },
  {
   "cell_type": "code",
   "execution_count": 4,
   "metadata": {},
   "outputs": [
    {
     "name": "stdout",
     "output_type": "stream",
     "text": [
      "[2, 8, 9, 11, 76, 25, 44, 7]\n"
     ]
    }
   ],
   "source": [
    "# 2. Добавьте в список b элемент 7 (просто допишите в конец).\n",
    "b = [2, 8, 9, 11, 76, 25, 44, 7]\n",
    "print(b)"
   ]
  },
  {
   "cell_type": "code",
   "execution_count": 5,
   "metadata": {},
   "outputs": [
    {
     "name": "stdout",
     "output_type": "stream",
     "text": [
      "[1, 0, 9, 12, 8, 34, 89, 91, 33, 127]\n"
     ]
    }
   ],
   "source": [
    "# 3. Замените пятый элемент списка a на число 8.\n",
    "a[4] = 8\n",
    "print(a)\n"
   ]
  },
  {
   "cell_type": "code",
   "execution_count": 6,
   "metadata": {},
   "outputs": [
    {
     "name": "stdout",
     "output_type": "stream",
     "text": [
      "[1, 0, 9, 12, 8, 34, 89, 91, 33, 127, 2, 8, 9, 11, 76, 25, 44, 7]\n"
     ]
    }
   ],
   "source": [
    "# 4. Создайте список merged, который включает в себя все элементы списка a и списка b.\n",
    "merged = a + b\n",
    "print(merged)"
   ]
  },
  {
   "cell_type": "code",
   "execution_count": 7,
   "metadata": {},
   "outputs": [
    {
     "name": "stdout",
     "output_type": "stream",
     "text": [
      "[1, 0, 9, 12, 8, 34, 89, 91, 33, 100]\n",
      "[1, 0, 9, 12, 8, 34, 89, 91, 33, 127]\n"
     ]
    }
   ],
   "source": [
    "# 5. Создайте новый список с , который получается заменой последнего элемента списка a на число 100. Сам список a измениться не должен\n",
    "c = [x for x in a]\n",
    "c[-1] = 100\n",
    "print(c)\n",
    "print(a)"
   ]
  }
 ],
 "metadata": {
  "kernelspec": {
   "display_name": "Python 3",
   "language": "python",
   "name": "python3"
  },
  "language_info": {
   "codemirror_mode": {
    "name": "ipython",
    "version": 3
   },
   "file_extension": ".py",
   "mimetype": "text/x-python",
   "name": "python",
   "nbconvert_exporter": "python",
   "pygments_lexer": "ipython3",
   "version": "3.12.5"
  }
 },
 "nbformat": 4,
 "nbformat_minor": 2
}
