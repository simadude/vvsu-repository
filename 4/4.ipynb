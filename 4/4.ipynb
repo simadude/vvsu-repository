{
 "cells": [
  {
   "cell_type": "code",
   "execution_count": 3,
   "metadata": {},
   "outputs": [],
   "source": [
    "grades = {'Anna': 4, 'Bob': 3, 'Claire': 5, 'Dick': 2, 'Elena': 5,\n",
    " 'Fred': 5, 'George': 4, 'Kristina': 3, 'Nick': 2,\n",
    " 'Ursula': 4, 'Viktor': 5}"
   ]
  },
  {
   "cell_type": "code",
   "execution_count": null,
   "metadata": {},
   "outputs": [],
   "source": [
    "for k, v in grades.items():\n",
    "    print(k, v)"
   ]
  },
  {
   "cell_type": "code",
   "execution_count": 5,
   "metadata": {},
   "outputs": [],
   "source": [
    "excel = []\n",
    "good = []\n",
    "satisf = []\n",
    "bad = []\n",
    "for k, v in grades.items():\n",
    "    if v == 5:\n",
    "        excel.append(k)\n",
    "    elif v == 4:\n",
    "        good.append(k)\n",
    "    elif v == 3:\n",
    "        satisf.append(k)\n",
    "    elif v == 2:\n",
    "        bad.append(k)"
   ]
  },
  {
   "cell_type": "code",
   "execution_count": null,
   "metadata": {},
   "outputs": [],
   "source": [
    "print(f\"Excel - {excel}\")\n",
    "print(f\"Good - {good}\")\n",
    "print(f\"Satisf - {satisf}\")\n",
    "print(f\"Bad - {bad}\")"
   ]
  }
 ],
 "metadata": {
  "interpreter": {
   "hash": "2db524e06e9f5f4ffedc911c917cb75e12dbc923643829bf417064a77eb14d37"
  },
  "kernelspec": {
   "display_name": "Python 3.8.5 64-bit",
   "name": "python3"
  },
  "language_info": {
   "codemirror_mode": {
    "name": "ipython",
    "version": 3
   },
   "file_extension": ".py",
   "mimetype": "text/x-python",
   "name": "python",
   "nbconvert_exporter": "python",
   "pygments_lexer": "ipython3",
   "version": "3.8.5"
  },
  "orig_nbformat": 4
 },
 "nbformat": 4,
 "nbformat_minor": 2
}
